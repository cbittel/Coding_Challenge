{
  "nbformat": 4,
  "nbformat_minor": 0,
  "metadata": {
    "colab": {
      "provenance": [],
      "mount_file_id": "1dCd9XkGzFCxj2OECp6zQJLYu-97JOQw7",
      "authorship_tag": "ABX9TyO/jYBQqHeG098wXD/NFUFi",
      "include_colab_link": true
    },
    "kernelspec": {
      "name": "python3",
      "display_name": "Python 3"
    },
    "language_info": {
      "name": "python"
    }
  },
  "cells": [
    {
      "cell_type": "markdown",
      "metadata": {
        "id": "view-in-github",
        "colab_type": "text"
      },
      "source": [
        "<a href=\"https://colab.research.google.com/github/cbittel/Coding_Challenge/blob/main/test_Section1_API.ipynb\" target=\"_parent\"><img src=\"https://colab.research.google.com/assets/colab-badge.svg\" alt=\"Open In Colab\"/></a>"
      ]
    },
    {
      "cell_type": "code",
      "source": [
        "!pip install pytest requests"
      ],
      "metadata": {
        "colab": {
          "base_uri": "https://localhost:8080/"
        },
        "id": "K5CgmfaVDiti",
        "outputId": "71418276-bfec-4d04-cb01-4dcf41f9f52d"
      },
      "execution_count": 19,
      "outputs": [
        {
          "output_type": "stream",
          "name": "stdout",
          "text": [
            "Requirement already satisfied: pytest in /usr/local/lib/python3.10/dist-packages (7.4.0)\n",
            "Requirement already satisfied: requests in /usr/local/lib/python3.10/dist-packages (2.31.0)\n",
            "Requirement already satisfied: iniconfig in /usr/local/lib/python3.10/dist-packages (from pytest) (2.0.0)\n",
            "Requirement already satisfied: packaging in /usr/local/lib/python3.10/dist-packages (from pytest) (23.1)\n",
            "Requirement already satisfied: pluggy<2.0,>=0.12 in /usr/local/lib/python3.10/dist-packages (from pytest) (1.2.0)\n",
            "Requirement already satisfied: exceptiongroup>=1.0.0rc8 in /usr/local/lib/python3.10/dist-packages (from pytest) (1.1.2)\n",
            "Requirement already satisfied: tomli>=1.0.0 in /usr/local/lib/python3.10/dist-packages (from pytest) (2.0.1)\n",
            "Requirement already satisfied: charset-normalizer<4,>=2 in /usr/local/lib/python3.10/dist-packages (from requests) (3.2.0)\n",
            "Requirement already satisfied: idna<4,>=2.5 in /usr/local/lib/python3.10/dist-packages (from requests) (3.4)\n",
            "Requirement already satisfied: urllib3<3,>=1.21.1 in /usr/local/lib/python3.10/dist-packages (from requests) (2.0.4)\n",
            "Requirement already satisfied: certifi>=2017.4.17 in /usr/local/lib/python3.10/dist-packages (from requests) (2023.7.22)\n"
          ]
        }
      ]
    },
    {
      "cell_type": "code",
      "source": [
        "import requests"
      ],
      "metadata": {
        "id": "l-GUV5iDD5NF"
      },
      "execution_count": null,
      "outputs": []
    },
    {
      "cell_type": "code",
      "source": [
        "from google.colab import drive\n",
        "drive.mount('/content/drive')\n"
      ],
      "metadata": {
        "colab": {
          "base_uri": "https://localhost:8080/"
        },
        "id": "pTNd7mvZ1k_O",
        "outputId": "8c08923a-f43a-457a-95f7-4bfe1a474676"
      },
      "execution_count": 14,
      "outputs": [
        {
          "output_type": "stream",
          "name": "stdout",
          "text": [
            "Drive already mounted at /content/drive; to attempt to forcibly remount, call drive.mount(\"/content/drive\", force_remount=True).\n"
          ]
        }
      ]
    },
    {
      "cell_type": "code",
      "source": [
        "public_url = f'https://d45e-34-73-144-185.ngrok.io/'"
      ],
      "metadata": {
        "id": "FF86Drudskcr"
      },
      "execution_count": 3,
      "outputs": []
    },
    {
      "cell_type": "code",
      "source": [
        "files = [\n",
        "    ('files', ('file1.csv', open('/content/drive/MyDrive/Data Science/Globant_tests/departments (1) (1).csv', 'rb'))),\n",
        "    ('files', ('file2.csv', open('/content/drive/MyDrive/Data Science/Globant_tests/jobs.csv', 'rb'))),\n",
        "    ('files', ('file3.csv', open('/content/drive/MyDrive/Data Science/Globant_tests/hired_employees (1) (1).csv', 'rb')))\n",
        "]"
      ],
      "metadata": {
        "id": "SycaMyaGz6id"
      },
      "execution_count": 17,
      "outputs": []
    },
    {
      "cell_type": "code",
      "execution_count": 6,
      "metadata": {
        "colab": {
          "base_uri": "https://localhost:8080/"
        },
        "id": "f5SNU6WZpNGk",
        "outputId": "b6035669-2210-4de7-ed1f-7a4cede135c7"
      },
      "outputs": [
        {
          "output_type": "stream",
          "name": "stdout",
          "text": [
            "{'message': 'Hello from your API!'}\n"
          ]
        }
      ],
      "source": [
        "api_url = f\"{public_url}/hello\"\n",
        "response = requests.get(api_url)\n",
        "print(response.json())"
      ]
    },
    {
      "cell_type": "code",
      "source": [
        "def test_hello_endpoint():\n",
        "    api_url = f\"{public_url}/hello\"\n",
        "    response = requests.get(api_url)\n",
        "    assert response.status_code == 200\n",
        "    assert response.json() == {'message': 'Hello from your API!'}\n"
      ],
      "metadata": {
        "id": "rQvR_Gl-EdE9"
      },
      "execution_count": 29,
      "outputs": []
    },
    {
      "cell_type": "code",
      "source": [
        "test_hello_endpoint()"
      ],
      "metadata": {
        "id": "WS2AN7goFVCz"
      },
      "execution_count": 30,
      "outputs": []
    },
    {
      "cell_type": "code",
      "source": [
        "\n",
        "response = requests.post(f\"{public_url}/historical_data_csv\", files=files)\n",
        "\n",
        "if response.status_code == 200:\n",
        "    processed_data = response.json()\n",
        "    for index, batch_data in enumerate(processed_data):\n",
        "        print(f\"Batch {index + 1}:\")\n",
        "        print(batch_data)\n",
        "        print(\"----\")\n",
        "else:\n",
        "    print(f\"Error: {response.text}\")"
      ],
      "metadata": {
        "colab": {
          "base_uri": "https://localhost:8080/"
        },
        "id": "46BsVsZLsuHS",
        "outputId": "e6c5cd8c-14dc-4678-a70e-dbb9e0cb94c4"
      },
      "execution_count": 35,
      "outputs": [
        {
          "output_type": "stream",
          "name": "stdout",
          "text": [
            "Batch 1:\n",
            "error\n",
            "----\n"
          ]
        }
      ]
    },
    {
      "cell_type": "code",
      "source": [
        "def test_historical_data_csv():\n",
        "\n",
        "    api_url = f\"{public_url}/historical_data_csv\"\n",
        "    response = requests.post(api_url, files=files)\n",
        "    assert response.status_code == 200\n",
        "    assert 'error' not in response.text.lower()\n"
      ],
      "metadata": {
        "id": "l_-2P7arFYet"
      },
      "execution_count": 38,
      "outputs": []
    },
    {
      "cell_type": "code",
      "source": [
        "test_historical_data_csv()"
      ],
      "metadata": {
        "colab": {
          "base_uri": "https://localhost:8080/",
          "height": 262
        },
        "id": "CpubJRgkG2zT",
        "outputId": "5fff571e-ae46-4d44-fcd6-7c8d4af43b90"
      },
      "execution_count": 39,
      "outputs": [
        {
          "output_type": "error",
          "ename": "AssertionError",
          "evalue": "ignored",
          "traceback": [
            "\u001b[0;31m---------------------------------------------------------------------------\u001b[0m",
            "\u001b[0;31mAssertionError\u001b[0m                            Traceback (most recent call last)",
            "\u001b[0;32m<ipython-input-39-30ca77f5f2e7>\u001b[0m in \u001b[0;36m<cell line: 1>\u001b[0;34m()\u001b[0m\n\u001b[0;32m----> 1\u001b[0;31m \u001b[0mtest_historical_data_csv\u001b[0m\u001b[0;34m(\u001b[0m\u001b[0;34m)\u001b[0m\u001b[0;34m\u001b[0m\u001b[0;34m\u001b[0m\u001b[0m\n\u001b[0m",
            "\u001b[0;32m<ipython-input-38-3029c60984e2>\u001b[0m in \u001b[0;36mtest_historical_data_csv\u001b[0;34m()\u001b[0m\n\u001b[1;32m      6\u001b[0m     \u001b[0;31m# Add more assertions to validate the response as needed\u001b[0m\u001b[0;34m\u001b[0m\u001b[0;34m\u001b[0m\u001b[0m\n\u001b[1;32m      7\u001b[0m     \u001b[0;31m#assert response.json().contains('error')\u001b[0m\u001b[0;34m\u001b[0m\u001b[0;34m\u001b[0m\u001b[0m\n\u001b[0;32m----> 8\u001b[0;31m     \u001b[0;32massert\u001b[0m \u001b[0;34m'error'\u001b[0m \u001b[0;32mnot\u001b[0m \u001b[0;32min\u001b[0m \u001b[0mresponse\u001b[0m\u001b[0;34m.\u001b[0m\u001b[0mtext\u001b[0m\u001b[0;34m.\u001b[0m\u001b[0mlower\u001b[0m\u001b[0;34m(\u001b[0m\u001b[0;34m)\u001b[0m\u001b[0;34m\u001b[0m\u001b[0;34m\u001b[0m\u001b[0m\n\u001b[0m",
            "\u001b[0;31mAssertionError\u001b[0m: "
          ]
        }
      ]
    },
    {
      "cell_type": "code",
      "source": [],
      "metadata": {
        "id": "wvehf5p9HIKv"
      },
      "execution_count": null,
      "outputs": []
    }
  ]
}