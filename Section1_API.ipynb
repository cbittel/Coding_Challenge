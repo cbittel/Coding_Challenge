{
  "nbformat": 4,
  "nbformat_minor": 0,
  "metadata": {
    "colab": {
      "provenance": [],
      "mount_file_id": "11Yd_VMwMzH9nrKFF1ouvsPlqAAP7Xf9Z",
      "authorship_tag": "ABX9TyOaRybtb6zuQbSv4Conp2eu",
      "include_colab_link": true
    },
    "kernelspec": {
      "name": "python3",
      "display_name": "Python 3"
    },
    "language_info": {
      "name": "python"
    }
  },
  "cells": [
    {
      "cell_type": "markdown",
      "metadata": {
        "id": "view-in-github",
        "colab_type": "text"
      },
      "source": [
        "<a href=\"https://colab.research.google.com/github/cbittel/Coding_Challenge/blob/main/Section1_API.ipynb\" target=\"_parent\"><img src=\"https://colab.research.google.com/assets/colab-badge.svg\" alt=\"Open In Colab\"/></a>"
      ]
    },
    {
      "cell_type": "code",
      "source": [
        "!pip install flask pyngrok\n",
        "\n",
        "\n",
        "from flask import Flask, request, jsonify\n",
        "from pyngrok import ngrok\n",
        "import threading\n",
        "import io\n",
        "import pandas as pd\n",
        "import sqlite3\n"
      ],
      "metadata": {
        "colab": {
          "base_uri": "https://localhost:8080/"
        },
        "id": "mulKjo2hn14z",
        "outputId": "d5a2cebe-81b8-42d4-9a2d-ecd8cdf44aa8"
      },
      "execution_count": 1,
      "outputs": [
        {
          "output_type": "stream",
          "name": "stdout",
          "text": [
            "Requirement already satisfied: flask in /usr/local/lib/python3.10/dist-packages (2.2.5)\n",
            "Requirement already satisfied: pyngrok in /usr/local/lib/python3.10/dist-packages (6.0.0)\n",
            "Requirement already satisfied: Werkzeug>=2.2.2 in /usr/local/lib/python3.10/dist-packages (from flask) (2.3.6)\n",
            "Requirement already satisfied: Jinja2>=3.0 in /usr/local/lib/python3.10/dist-packages (from flask) (3.1.2)\n",
            "Requirement already satisfied: itsdangerous>=2.0 in /usr/local/lib/python3.10/dist-packages (from flask) (2.1.2)\n",
            "Requirement already satisfied: click>=8.0 in /usr/local/lib/python3.10/dist-packages (from flask) (8.1.6)\n",
            "Requirement already satisfied: PyYAML in /usr/local/lib/python3.10/dist-packages (from pyngrok) (6.0.1)\n",
            "Requirement already satisfied: MarkupSafe>=2.0 in /usr/local/lib/python3.10/dist-packages (from Jinja2>=3.0->flask) (2.1.3)\n"
          ]
        }
      ]
    },
    {
      "cell_type": "code",
      "source": [
        "database_name = 'historical_data.db'\n"
      ],
      "metadata": {
        "id": "fb3jgvBiUbUa"
      },
      "execution_count": 2,
      "outputs": []
    },
    {
      "cell_type": "code",
      "source": [
        "\n",
        "def clear_database():\n",
        "  try:\n",
        "    db_connection = sqlite3.connect(database_name)\n",
        "    cursor = db_connection.cursor()\n",
        "    cursor.execute(\"SELECT name FROM sqlite_master WHERE type='table'\")\n",
        "    tables = cursor.fetchall()\n",
        "    for table in tables:\n",
        "        cursor.execute(f\"DROP TABLE {table[0]}\")\n",
        "    db_connection.commit()\n",
        "    db_connection.close()\n",
        "  except Exception as e:\n",
        "    return str(e)"
      ],
      "metadata": {
        "id": "Bi7Pc-8ab_UG"
      },
      "execution_count": 3,
      "outputs": []
    },
    {
      "cell_type": "code",
      "source": [
        "\n",
        "# DEfine Flask application interface\n",
        "app = Flask(__name__)\n",
        "\n",
        "def run_flask_app():\n",
        "    app.run()\n"
      ],
      "metadata": {
        "id": "ZU1nUtIbqbUo"
      },
      "execution_count": 4,
      "outputs": []
    },
    {
      "cell_type": "code",
      "source": [
        "\n",
        "@app.route('/hello', methods=['GET'])\n",
        "def hello():\n",
        "    return jsonify(message=\"Hello from your API!\")\n"
      ],
      "metadata": {
        "id": "iRu-ChBnyLs-"
      },
      "execution_count": 5,
      "outputs": []
    },
    {
      "cell_type": "code",
      "source": [
        "@app.route('/historical_data_csv', methods=['POST'])\n",
        "def historical_data_csv():\n",
        "    \"\"\"\n",
        "    Endpoint that receives a list of three CSV files and saves them to a SQLite3 database.\n",
        "    \"\"\"\n",
        "\n",
        "    try:\n",
        "        files = request.files.getlist('files')\n",
        "\n",
        "        if len(files) != 3:\n",
        "            return jsonify(error=\"Exactly three files are required\")\n",
        "\n",
        "        # Clear the SQLite database before processing\n",
        "        clear_database()\n",
        "        processed_data = []\n",
        "\n",
        "        for file in files:\n",
        "            if file.filename == '':\n",
        "                return jsonify(error=\"One of the files is empty\")\n",
        "            elif file.filename == 'departments.csv':\n",
        "              column_names = ['dept_id', 'dept_name']\n",
        "            elif file.filename == 'jobs.csv':\n",
        "              column_names = ['job_id', 'job_name']\n",
        "            elif file.filename == 'hired_employees.csv':\n",
        "              column_names = ['empl_id', 'empl_name', 'hired', 'dept_id', 'job_id']\n",
        "\n",
        "            # Read the CSV file into a pandas DataFrame\n",
        "            csv_data = file.read().decode('utf-8')\n",
        "            df = pd.read_csv(io.StringIO(csv_data), names=column_names)   # pd.compat.StringIO(csv_data)\n",
        "\n",
        "            # Connect to SQLite database\n",
        "            db_connection = sqlite3.connect(database_name)\n",
        "            # Get table name from the filename without extension\n",
        "            table_name = file.filename.split('.')[0]\n",
        "\n",
        "            batch_size = 1000\n",
        "            num_batches = len(df) // batch_size + 1\n",
        "\n",
        "            for batch_num in range(num_batches):\n",
        "                batch_df = df.iloc[batch_num * batch_size : (batch_num + 1) * batch_size]\n",
        "                # Process the batch - example: convert to JSON format\n",
        "                processed_batch = batch_df.to_json(orient='records')\n",
        "                # Process the batch - save to SQLite3 format\n",
        "                batch_df.to_sql(table_name, db_connection, if_exists='append', index=False)\n",
        "\n",
        "                processed_data.append(processed_batch)\n",
        "\n",
        "            db_connection.close()\n",
        "            print(jsonify(processed_data.append(\"Data successfully processed and saved\")))\n",
        "\n",
        "        return jsonify(processed_data)\n",
        "    except Exception as e:\n",
        "        return jsonify(error=str(e))\n"
      ],
      "metadata": {
        "id": "CozOywQ-ybg2"
      },
      "execution_count": 6,
      "outputs": []
    },
    {
      "cell_type": "code",
      "source": [
        "\n",
        "# Start the Flask app in a separate thread\n",
        "flask_thread = threading.Thread(target=run_flask_app)\n",
        "flask_thread.start()\n"
      ],
      "metadata": {
        "id": "KcqW4PpVyIjK",
        "colab": {
          "base_uri": "https://localhost:8080/"
        },
        "outputId": "d102269d-fb85-4eba-9ec4-aed7acae453f"
      },
      "execution_count": 7,
      "outputs": [
        {
          "output_type": "stream",
          "name": "stdout",
          "text": [
            " * Serving Flask app '__main__'\n"
          ]
        }
      ]
    },
    {
      "cell_type": "code",
      "source": [
        "\n",
        "# Get the public URL using ngrok\n",
        "public_url = ngrok.connect(addr='5000')\n",
        "print(f'public_url: {public_url}     ---   copy this URL to the tests module \"public_url\" variable.')\n"
      ],
      "metadata": {
        "colab": {
          "base_uri": "https://localhost:8080/"
        },
        "id": "v4xiXUQKyDfk",
        "outputId": "7ffc89c3-b91e-4beb-c8fa-4ce74a2cfb50"
      },
      "execution_count": 8,
      "outputs": [
        {
          "output_type": "stream",
          "name": "stdout",
          "text": [
            " * Debug mode: off\n"
          ]
        },
        {
          "output_type": "stream",
          "name": "stderr",
          "text": [
            "INFO:werkzeug:\u001b[31m\u001b[1mWARNING: This is a development server. Do not use it in a production deployment. Use a production WSGI server instead.\u001b[0m\n",
            " * Running on http://127.0.0.1:5000\n",
            "INFO:werkzeug:\u001b[33mPress CTRL+C to quit\u001b[0m\n",
            "WARNING:pyngrok.process.ngrok:t=2023-08-17T06:39:32+0000 lvl=warn msg=\"ngrok config file found at legacy location, move to XDG location\" xdg_path=/root/.config/ngrok/ngrok.yml legacy_path=/root/.ngrok2/ngrok.yml\n"
          ]
        },
        {
          "output_type": "stream",
          "name": "stdout",
          "text": [
            "public_url: NgrokTunnel: \"https://25b6-35-236-254-50.ngrok.io\" -> \"http://localhost:5000\"     ---   copy this URL to the tests module \"public_url\" variable.\n"
          ]
        }
      ]
    },
    {
      "cell_type": "code",
      "source": [
        "!ls"
      ],
      "metadata": {
        "id": "2uGfav1Cyy8c",
        "colab": {
          "base_uri": "https://localhost:8080/"
        },
        "outputId": "000173e9-7f1c-4864-b18d-76d4c3247567"
      },
      "execution_count": 12,
      "outputs": [
        {
          "output_type": "stream",
          "name": "stdout",
          "text": [
            "drive  historical_data.db  sample_data\n"
          ]
        }
      ]
    },
    {
      "cell_type": "code",
      "source": [
        "import sqlite3\n",
        "import os\n",
        "\n",
        "# Specify the path on your Google Drive where the database is located\n",
        "drive_path = '/content/drive/MyDrive/Data Science/'\n",
        "db_path = os.path.join(drive_path, database_name)\n",
        "\n",
        "# Connect to the database\n",
        "db_connection = sqlite3.connect(database_name)\n",
        "\n",
        "# Execute a SELECT query\n",
        "cursor = db_connection.cursor()\n",
        "select_query = 'SELECT * FROM hired_employees'\n",
        "cursor.execute(select_query)\n",
        "results = cursor.fetchall()\n",
        "for row in results:\n",
        "    print(row)\n",
        "\n",
        "# Close the connection\n",
        "db_connection.close()\n"
      ],
      "metadata": {
        "id": "3LJT9zcmC8sD"
      },
      "execution_count": 13,
      "outputs": []
    },
    {
      "cell_type": "code",
      "source": [
        "results"
      ],
      "metadata": {
        "colab": {
          "base_uri": "https://localhost:8080/"
        },
        "id": "8C8iL1wgEN0i",
        "outputId": "8fc0098f-03fe-4f74-a834-7f800a9521bf"
      },
      "execution_count": 14,
      "outputs": [
        {
          "output_type": "execute_result",
          "data": {
            "text/plain": [
              "[]"
            ]
          },
          "metadata": {},
          "execution_count": 14
        }
      ]
    },
    {
      "cell_type": "code",
      "source": [],
      "metadata": {
        "id": "nQOQ53ppNvoE"
      },
      "execution_count": 11,
      "outputs": []
    }
  ]
}