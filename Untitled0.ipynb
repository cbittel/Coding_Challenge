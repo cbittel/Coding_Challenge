{
  "nbformat": 4,
  "nbformat_minor": 0,
  "metadata": {
    "colab": {
      "provenance": [],
      "mount_file_id": "11Yd_VMwMzH9nrKFF1ouvsPlqAAP7Xf9Z",
      "authorship_tag": "ABX9TyMBzV/2th595CGKpDYFmiV1",
      "include_colab_link": true
    },
    "kernelspec": {
      "name": "python3",
      "display_name": "Python 3"
    },
    "language_info": {
      "name": "python"
    }
  },
  "cells": [
    {
      "cell_type": "markdown",
      "metadata": {
        "id": "view-in-github",
        "colab_type": "text"
      },
      "source": [
        "<a href=\"https://colab.research.google.com/github/cbittel/Coding_Challenge/blob/main/Untitled0.ipynb\" target=\"_parent\"><img src=\"https://colab.research.google.com/assets/colab-badge.svg\" alt=\"Open In Colab\"/></a>"
      ]
    },
    {
      "cell_type": "code",
      "source": [
        "!pip install flask pyngrok\n",
        "\n",
        "\n",
        "from flask import Flask, request, jsonify\n",
        "from pyngrok import ngrok\n",
        "import threading\n",
        "import io\n",
        "import pandas as pd\n",
        "import sqlite3\n"
      ],
      "metadata": {
        "colab": {
          "base_uri": "https://localhost:8080/"
        },
        "id": "mulKjo2hn14z",
        "outputId": "0eb586ea-84e3-45b6-bf00-1ae16f1babd5"
      },
      "execution_count": 2,
      "outputs": [
        {
          "output_type": "stream",
          "name": "stdout",
          "text": [
            "Requirement already satisfied: flask in /usr/local/lib/python3.10/dist-packages (2.2.5)\n",
            "Requirement already satisfied: pyngrok in /usr/local/lib/python3.10/dist-packages (6.0.0)\n",
            "Requirement already satisfied: Werkzeug>=2.2.2 in /usr/local/lib/python3.10/dist-packages (from flask) (2.3.6)\n",
            "Requirement already satisfied: Jinja2>=3.0 in /usr/local/lib/python3.10/dist-packages (from flask) (3.1.2)\n",
            "Requirement already satisfied: itsdangerous>=2.0 in /usr/local/lib/python3.10/dist-packages (from flask) (2.1.2)\n",
            "Requirement already satisfied: click>=8.0 in /usr/local/lib/python3.10/dist-packages (from flask) (8.1.6)\n",
            "Requirement already satisfied: PyYAML in /usr/local/lib/python3.10/dist-packages (from pyngrok) (6.0.1)\n",
            "Requirement already satisfied: MarkupSafe>=2.0 in /usr/local/lib/python3.10/dist-packages (from Jinja2>=3.0->flask) (2.1.3)\n"
          ]
        }
      ]
    },
    {
      "cell_type": "code",
      "source": [
        "\n",
        "# DEfine Flask application interface\n",
        "app = Flask(__name__)\n",
        "\n",
        "def run_flask_app():\n",
        "    app.run()\n"
      ],
      "metadata": {
        "id": "ZU1nUtIbqbUo"
      },
      "execution_count": 3,
      "outputs": []
    },
    {
      "cell_type": "code",
      "source": [
        "\n",
        "@app.route('/hello', methods=['GET'])\n",
        "def hello():\n",
        "    return jsonify(message=\"Hello from your API!\")\n"
      ],
      "metadata": {
        "id": "iRu-ChBnyLs-"
      },
      "execution_count": 4,
      "outputs": []
    },
    {
      "cell_type": "code",
      "source": [
        "@app.route('/historical_data_csv', methods=['POST'])\n",
        "def historical_data_csv():\n",
        "    try:\n",
        "        files = request.files.getlist('files')\n",
        "\n",
        "        if len(files) != 3:\n",
        "            return jsonify(error=\"Exactly three files are required\")\n",
        "\n",
        "        processed_data = []\n",
        "\n",
        "        for file in files:\n",
        "            if file.filename == '':\n",
        "                return jsonify(error=\"One of the files is empty\")\n",
        "\n",
        "            # Read the CSV file into a pandas DataFrame\n",
        "            csv_data = file.read().decode('utf-8')\n",
        "            df = pd.read_csv(io.StringIO(csv_data))\n",
        "\n",
        "            batch_size = 1000\n",
        "            num_batches = len(df) // batch_size + 1\n",
        "\n",
        "            for batch_num in range(num_batches):\n",
        "                batch = df.iloc[batch_num * batch_size : (batch_num + 1) * batch_size]\n",
        "                # Process the batch - example: convert to JSON format\n",
        "                processed_batch = batch.to_json(orient='records')\n",
        "                processed_data.append(processed_batch)\n",
        "\n",
        "        return jsonify(processed_data)\n",
        "    except Exception as e:\n",
        "        return jsonify(error=str(e))\n"
      ],
      "metadata": {
        "id": "CozOywQ-ybg2"
      },
      "execution_count": 5,
      "outputs": []
    },
    {
      "cell_type": "code",
      "source": [
        "\n",
        "# Start the Flask app in a separate thread\n",
        "flask_thread = threading.Thread(target=run_flask_app)\n",
        "flask_thread.start()\n"
      ],
      "metadata": {
        "colab": {
          "base_uri": "https://localhost:8080/"
        },
        "id": "KcqW4PpVyIjK",
        "outputId": "f488e72c-e879-400e-9ac2-d8bb739cf5c7"
      },
      "execution_count": 6,
      "outputs": [
        {
          "output_type": "stream",
          "name": "stdout",
          "text": [
            " * Serving Flask app '__main__'\n",
            " * Debug mode: off\n"
          ]
        },
        {
          "output_type": "stream",
          "name": "stderr",
          "text": [
            "INFO:werkzeug:\u001b[31m\u001b[1mWARNING: This is a development server. Do not use it in a production deployment. Use a production WSGI server instead.\u001b[0m\n",
            " * Running on http://127.0.0.1:5000\n",
            "INFO:werkzeug:\u001b[33mPress CTRL+C to quit\u001b[0m\n"
          ]
        }
      ]
    },
    {
      "cell_type": "code",
      "source": [
        "\n",
        "# Get the public URL using ngrok\n",
        "public_url = ngrok.connect(addr='5000')\n",
        "print(f'public_url: {public_url}')\n"
      ],
      "metadata": {
        "colab": {
          "base_uri": "https://localhost:8080/"
        },
        "id": "v4xiXUQKyDfk",
        "outputId": "0bdbe095-cf47-42c3-9cd1-9417c45637bd"
      },
      "execution_count": 7,
      "outputs": [
        {
          "output_type": "stream",
          "name": "stderr",
          "text": [
            "WARNING:pyngrok.process.ngrok:t=2023-08-16T05:22:03+0000 lvl=warn msg=\"ngrok config file found at legacy location, move to XDG location\" xdg_path=/root/.config/ngrok/ngrok.yml legacy_path=/root/.ngrok2/ngrok.yml\n"
          ]
        },
        {
          "output_type": "stream",
          "name": "stdout",
          "text": [
            "public_url: NgrokTunnel: \"https://d45e-34-73-144-185.ngrok.io\" -> \"http://localhost:5000\"\n"
          ]
        }
      ]
    },
    {
      "cell_type": "code",
      "source": [],
      "metadata": {
        "id": "2uGfav1Cyy8c"
      },
      "execution_count": null,
      "outputs": []
    }
  ]
}